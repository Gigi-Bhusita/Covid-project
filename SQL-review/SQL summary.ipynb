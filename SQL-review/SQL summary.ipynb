{
 "cells": [
  {
   "cell_type": "markdown",
   "id": "ad769e7d",
   "metadata": {},
   "source": [
    "# Basic SQL"
   ]
  },
  {
   "cell_type": "code",
   "execution_count": null,
   "id": "739db22e",
   "metadata": {},
   "outputs": [],
   "source": [
    "# Basic SQL\n",
    "\n",
    "To create table >>> CREATE TABLE\n",
    "Create Table Employee_salary\n",
    "To define coloumn >>> (Column varchar, Column int)\n",
    "( Employee_ID varchar(50) )\n",
    "To add data in table >>> INSERT TO VALUES\n",
    "(101, 'Jim', 20)"
   ]
  },
  {
   "cell_type": "code",
   "execution_count": null,
   "id": "ae47260f",
   "metadata": {},
   "outputs": [],
   "source": [
    "#Select Statement\n",
    "\n",
    "* >>> select the table\n",
    "Select * A Table\n",
    "\n",
    "no * >>> select some column\n",
    "select xxx from table >>> select xxx column from table\n",
    "\n",
    "Top >>> top rows of the table\n",
    "select top 3 * A table\n",
    "\n",
    "Distinct >>> unique value in the column\n",
    "select distinct(Employee_ID) from A Table\n",
    "\n",
    "Count >>> count the number of data in the column\n",
    "select count(name) from A Table\n",
    "\n",
    "As >>> name the selected column\n",
    "select count(name) from A Table as AAAAA\n",
    "\n",
    "Max >>> find the maximum value in the column\n",
    "select max(salary) from A Table\n",
    "\n",
    "Min >>> find the minimum value in the column\n",
    "select min(salary) from A Table\n",
    "\n",
    "Avg >>> find the average value in the column\n",
    "select avg(salary) from A Table"
   ]
  },
  {
   "cell_type": "code",
   "execution_count": null,
   "id": "496d3681",
   "metadata": {},
   "outputs": [],
   "source": [
    "# Where Statement\n",
    "\n",
    "= >>> display the value that fits for the condition\n",
    "select * from A Table\n",
    "where name = 'x'\n",
    "\n",
    "<> >>> display the value that does NOT fit for the condition\n",
    "select * from A Table\n",
    "where name <> 'x'\n",
    "\n",
    "<   >>> display the value that is LESS THAN the condition\n",
    "select * from A Table\n",
    "where age < 50\n",
    "\n",
    ">   >>> display the value that is MORE THAN the condition\n",
    "select * from A Table\n",
    "where age > 50\n",
    "\n",
    "And >>> display both TRUE conditions\n",
    "Select * from A Table\n",
    "Where age = '5' AND gender = 'Female'\n",
    "\n",
    "Or >>> display either True\n",
    "Select * from A Table\n",
    "Where age = '5' OR gender = 'Female'\n",
    "\n",
    "Like >>> similar value\n",
    "Select * from A Table\n",
    "WHERE Lastname LIKE 'S%'\n",
    "WHERE Lastname LIKE '%S'\n",
    "WHERE Lastname LIKE '%S'\n",
    "WHERE Lastname LIKE '%S%o'\n",
    "\n",
    "Null >>> Find blank row\n",
    "Select * A Table From A Table\n",
    "WHERE name is NULL\n",
    "\n",
    "Not null >>> no blank row\n",
    "Select * A Table From A Table\n",
    "WHERE name is NOT NULL\n",
    "\n",
    "In >>> same as = but more conditions / values"
   ]
  },
  {
   "cell_type": "code",
   "execution_count": null,
   "id": "e345f238",
   "metadata": {},
   "outputs": [],
   "source": [
    "# Group by * Order by\n",
    "\n",
    "Group by >>> group and order by count asc\n",
    "\n",
    "Order by >>> order by asc, desc, column name, column number"
   ]
  }
 ],
 "metadata": {
  "kernelspec": {
   "display_name": "Python 3 (ipykernel)",
   "language": "python",
   "name": "python3"
  },
  "language_info": {
   "codemirror_mode": {
    "name": "ipython",
    "version": 3
   },
   "file_extension": ".py",
   "mimetype": "text/x-python",
   "name": "python",
   "nbconvert_exporter": "python",
   "pygments_lexer": "ipython3",
   "version": "3.9.12"
  }
 },
 "nbformat": 4,
 "nbformat_minor": 5
}
